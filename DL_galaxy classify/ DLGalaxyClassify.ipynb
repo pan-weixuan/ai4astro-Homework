{
 "cells": [
  {
   "cell_type": "code",
   "execution_count": 1,
   "id": "c3154a42-7eb1-44e0-82d3-13408b53b524",
   "metadata": {},
   "outputs": [],
   "source": [
    "import pandas as pd\n",
    "import pyarrow.parquet as pq\n",
    "import torch\n",
    "import torch.nn as nn\n",
    "from torch.optim import Adam\n",
    "from torch.utils.data import Dataset, DataLoader\n",
    "import torchvision.transforms as transforms\n",
    "from PIL import Image\n",
    "import io\n",
    "import numpy as np\n",
    "import matplotlib.pyplot as plt"
   ]
  },
  {
   "cell_type": "code",
   "execution_count": 2,
   "id": "5b6ddc95-3631-42d8-90aa-1f5df52b5136",
   "metadata": {},
   "outputs": [
    {
     "data": {
      "text/plain": [
       "False"
      ]
     },
     "execution_count": 2,
     "metadata": {},
     "output_type": "execute_result"
    }
   ],
   "source": [
    "device = torch.device(\"cuda\" if torch.cuda.is_available() else \"cpu\")\n",
    "torch.cuda.is_available()"
   ]
  },
  {
   "cell_type": "code",
   "execution_count": 3,
   "id": "1e38aec5-a575-4d0f-97e5-b7d68eb2970e",
   "metadata": {},
   "outputs": [],
   "source": [
    "# 加载数据集\n",
    "table1 = pq.read_table(\"/Users/portia/Documents/AAA-College/AI/ai4astro/galaxy/train-00000-of-00001.parquet\")\n",
    "table2 = pq.read_table(\"/Users/portia/Documents/AAA-College/AI/ai4astro/galaxy/test-00000-of-00001.parquet\")\n",
    "\n",
    "\n",
    "df1 = table1.to_pandas()\n",
    "df2 = table2.to_pandas()\n",
    "\n",
    "df = pd.concat([df1, df2], ignore_index=True)"
   ]
  },
  {
   "cell_type": "code",
   "execution_count": 4,
   "id": "081bcf71-cf42-4920-bf4d-27e8ad8db0a7",
   "metadata": {},
   "outputs": [],
   "source": [
    "def process_image_from_bytes(image_bytes, mode=\"RGB\", channel_index=None, transform=None):\n",
    "    \"\"\"\n",
    "    从字节流中读取图像，转换为指定模式，并提取指定通道或转换为灰度图。\n",
    "\n",
    "    Args:\n",
    "        image_bytes (bytes): 图像的字节流数据。\n",
    "        mode (str, optional): 图像模式（\"RGB\"、\"L\" 或 \"single\"）。默认为 \"RGB\"。\n",
    "        channel_index (int, optional): 要提取的通道索引（0: R, 1: G, 2: B）。默认为 None。\n",
    "        transform (callable, optional): 图像预处理变换。默认为 None。\n",
    "\n",
    "    Returns:\n",
    "        torch.Tensor: 处理后的图像张量。\n",
    "    \"\"\"\n",
    "    # 从字节流加载图像\n",
    "    image = Image.open(io.BytesIO(image_bytes))\n",
    "\n",
    "    # 处理不同模式\n",
    "    if mode == \"RGB\":\n",
    "        # 转换为 RGB 模式\n",
    "        image = image.convert(\"RGB\")\n",
    "        if channel_index is not None:\n",
    "            # 提取指定通道\n",
    "            if 0 <= channel_index <= 2:\n",
    "                image = image.split()[channel_index]\n",
    "            else:\n",
    "                raise ValueError(\"Invalid channel index for RGB mode\")\n",
    "    elif mode == \"L\":\n",
    "        # 转换为灰度图\n",
    "        image = image.convert(\"L\")\n",
    "    elif mode == \"single\":\n",
    "        # 提取单通道\n",
    "        if channel_index is not None and 0 <= channel_index <= 2:\n",
    "            image = image.convert(\"RGB\")\n",
    "            image = image.split()[channel_index]\n",
    "        else:\n",
    "            raise ValueError(\"Invalid channel index for single mode\")\n",
    "    else:\n",
    "        raise ValueError(\"Mode must be 'RGB', 'L', or 'single'\")\n",
    "\n",
    "    # 应用预处理变换\n",
    "    if transform:\n",
    "        image = transform(image)\n",
    "\n",
    "    return image"
   ]
  },
  {
   "cell_type": "code",
   "execution_count": 5,
   "id": "16706925-d439-4605-94bd-08e72595e613",
   "metadata": {},
   "outputs": [
    {
     "name": "stdout",
     "output_type": "stream",
     "text": [
      "RGB 图像张量形状: torch.Size([3, 64, 64])\n",
      "R 通道张量形状: torch.Size([1, 64, 64])\n",
      "G 通道张量形状: torch.Size([1, 64, 64])\n",
      "B 通道张量形状: torch.Size([1, 64, 64])\n",
      "灰度图张量形状: torch.Size([1, 64, 64])\n"
     ]
    }
   ],
   "source": [
    "# 定义图像预处理变换\n",
    "transform = transforms.Compose([\n",
    "    transforms.Resize((64, 64)),  # 调整大小\n",
    "    transforms.ToTensor(),        # 转换为张量\n",
    "    transforms.Normalize(mean=[0.5], std=[0.5])  # 归一化\n",
    "])\n",
    "\n",
    "# 假设 image_bytes 是从字节流中读取的图像数据\n",
    "image_bytes = df['image'][0]['bytes']  # 你的字节流数据\n",
    "\n",
    "# 提取原始三通道图像\n",
    "rgb_image = process_image_from_bytes(image_bytes, mode=\"RGB\", transform=transform)\n",
    "print(f\"RGB 图像张量形状: {rgb_image.shape}\")\n",
    "\n",
    "# 提取 R 通道\n",
    "r_channel = process_image_from_bytes(image_bytes, mode=\"single\", channel_index=0, transform=transform)\n",
    "print(f\"R 通道张量形状: {r_channel.shape}\")\n",
    "\n",
    "# 提取 G 通道\n",
    "g_channel = process_image_from_bytes(image_bytes, mode=\"single\", channel_index=1, transform=transform)\n",
    "print(f\"G 通道张量形状: {g_channel.shape}\")\n",
    "\n",
    "# 提取 B 通道\n",
    "b_channel = process_image_from_bytes(image_bytes, mode=\"single\", channel_index=2, transform=transform)\n",
    "print(f\"B 通道张量形状: {b_channel.shape}\")\n",
    "\n",
    "# 转换为灰度图\n",
    "gray_image = process_image_from_bytes(image_bytes, mode=\"L\", transform=transform)\n",
    "print(f\"灰度图张量形状: {gray_image.shape}\")"
   ]
  },
  {
   "cell_type": "code",
   "execution_count": 6,
   "id": "4360bd2e-0e68-4348-a8ba-5e99e38064bc",
   "metadata": {},
   "outputs": [],
   "source": [
    "class ParquetDatasetProcessed(torch.utils.data.Dataset):\n",
    "    def __init__(self, df, mode=\"RGB\", channel_index=None, transform=None):\n",
    "        self.df = df\n",
    "        self.mode = mode\n",
    "        self.channel_index = channel_index\n",
    "        self.transform = transform\n",
    "        self.labels = df[\"summary\"].astype(\"category\").cat.codes.astype(np.int64)\n",
    "        self.label_mapping = dict(enumerate(df[\"summary\"].astype(\"category\").cat.categories))\n",
    "\n",
    "    def __getitem__(self, idx):\n",
    "        image_bytes = self.df.iloc[idx][\"image\"][\"bytes\"]\n",
    "        processed_image = process_image_from_bytes(\n",
    "            image_bytes,\n",
    "            mode=self.mode,\n",
    "            channel_index=self.channel_index,\n",
    "            transform=self.transform\n",
    "        )\n",
    "\n",
    "        label = self.labels[idx]\n",
    "        return processed_image, torch.tensor(label, dtype=torch.long)\n",
    "\n",
    "    def __len__(self):\n",
    "        return len(self.df)"
   ]
  },
  {
   "cell_type": "code",
   "execution_count": 7,
   "id": "66e36dca-fe0c-4bcf-acdc-e1cafec504f0",
   "metadata": {},
   "outputs": [],
   "source": [
    "transform = transforms.Compose([\n",
    "    transforms.Resize((64, 64)),  # 调整大小\n",
    "    transforms.ToTensor(),        # 转换为张量\n",
    "    transforms.Normalize(mean=[0.5], std=[0.5])  # 归一化\n",
    "])"
   ]
  },
  {
   "cell_type": "markdown",
   "id": "7284c0a6-b7bb-4865-aca3-e0f134f653e5",
   "metadata": {},
   "source": [
    "<font size=\"3\">**RGB**</font>"
   ]
  },
  {
   "cell_type": "code",
   "execution_count": 8,
   "id": "23baaa81-5a25-48c5-b074-cf0258e39ac1",
   "metadata": {},
   "outputs": [],
   "source": [
    "# 创建数据集\n",
    "mode = \"RGB\"  # 或 \"L\" 用于灰度图，或 \"single\" 用于单通道\n",
    "channel_index = None  # 用于 RGB 模式；0: R, 1: G, 2: B 用于 single 模式\n",
    "full_dataset = ParquetDatasetProcessed(df, mode=mode, channel_index=channel_index, transform=transform)\n",
    "\n",
    "# 分割数据集\n",
    "train_size = int(0.8 * len(full_dataset))\n",
    "test_size = len(full_dataset) - train_size\n",
    "train_dataset, test_dataset = torch.utils.data.random_split(full_dataset, [train_size, test_size])\n",
    "\n",
    "# 创建数据加载器\n",
    "train_loader = torch.utils.data.DataLoader(train_dataset, batch_size=32, shuffle=True)\n",
    "test_loader = torch.utils.data.DataLoader(test_dataset, batch_size=32, shuffle=False)"
   ]
  },
  {
   "cell_type": "code",
   "execution_count": 9,
   "id": "80641a82-a094-401f-8291-2c3b5fec7ba5",
   "metadata": {},
   "outputs": [],
   "source": [
    "class SimpleCNN(nn.Module):\n",
    "    def __init__(self, num_classes=7, input_channels=3):\n",
    "        super().__init__()\n",
    "        self.features = nn.Sequential(\n",
    "            nn.Conv2d(input_channels, 16, 3, padding=1),\n",
    "            nn.ReLU(),\n",
    "            nn.MaxPool2d(2),\n",
    "            nn.Conv2d(16, 32, 3, padding=1),\n",
    "            nn.ReLU(),\n",
    "            nn.MaxPool2d(2)\n",
    "        )\n",
    "        self.classifier = nn.Sequential(\n",
    "            nn.Linear(32 * 16 * 16, 128),\n",
    "            nn.ReLU(),\n",
    "            nn.Dropout(0.5),\n",
    "            nn.Linear(128, num_classes)\n",
    "        )\n",
    "\n",
    "    def forward(self, x):\n",
    "        x = self.features(x)\n",
    "        x = torch.flatten(x, 1)\n",
    "        x = self.classifier(x)\n",
    "        return x"
   ]
  },
  {
   "cell_type": "code",
   "execution_count": 10,
   "id": "def2a77c-1a5b-48e9-809b-f670bc89444e",
   "metadata": {},
   "outputs": [
    {
     "name": "stdout",
     "output_type": "stream",
     "text": [
      "Epoch 1 | Loss: 1.0376 | Accuracy: 73.17%\n",
      "Epoch 2 | Loss: 0.9798 | Accuracy: 73.61%\n",
      "Epoch 3 | Loss: 0.9628 | Accuracy: 73.61%\n",
      "Epoch 4 | Loss: 0.9493 | Accuracy: 73.61%\n",
      "Epoch 5 | Loss: 0.9238 | Accuracy: 73.61%\n",
      "Epoch 6 | Loss: 0.9054 | Accuracy: 73.61%\n",
      "Epoch 7 | Loss: 0.8722 | Accuracy: 73.70%\n",
      "Epoch 8 | Loss: 0.8191 | Accuracy: 73.86%\n",
      "Epoch 9 | Loss: 0.7686 | Accuracy: 74.45%\n",
      "Epoch 10 | Loss: 0.7151 | Accuracy: 75.42%\n"
     ]
    }
   ],
   "source": [
    "# 训练配置\n",
    "device = torch.device(\"cuda\" if torch.cuda.is_available() else \"cpu\")\n",
    "model = SimpleCNN(num_classes=len(full_dataset.label_mapping), input_channels=3).to(device)\n",
    "criterion = nn.CrossEntropyLoss()\n",
    "optimizer = Adam(model.parameters(), lr=0.001)\n",
    "\n",
    "# 训练循环\n",
    "for epoch in range(10):\n",
    "    model.train()\n",
    "    running_loss = 0.0\n",
    "    correct = 0\n",
    "    total = 0\n",
    "\n",
    "    for images, labels in train_loader:\n",
    "        images = images.to(device)\n",
    "        labels = labels.to(device)\n",
    "\n",
    "        optimizer.zero_grad()\n",
    "        outputs = model(images)\n",
    "        loss = criterion(outputs, labels)\n",
    "        loss.backward()\n",
    "        optimizer.step()\n",
    "\n",
    "        running_loss += loss.item()\n",
    "\n",
    "        # 计算准确率\n",
    "        _, predicted = torch.max(outputs, 1)\n",
    "        total += labels.size(0)\n",
    "        correct += (predicted == labels).sum().item()\n",
    "\n",
    "    # 计算平均损失和准确率\n",
    "    running_loss += loss.item()\n",
    "    running_acc = 100 * correct / total\n",
    "\n",
    "    print(f\"Epoch {epoch+1} | Loss: {running_loss/len(train_loader):.4f} | Accuracy: {running_acc:.2f}%\")"
   ]
  },
  {
   "cell_type": "code",
   "execution_count": 11,
   "id": "59d6ad20-dab3-4f02-8491-4d7b5a684bde",
   "metadata": {},
   "outputs": [
    {
     "name": "stdout",
     "output_type": "stream",
     "text": [
      "Accuracy_test: 70.96%\n"
     ]
    }
   ],
   "source": [
    "# 测试代码\n",
    "model.eval()\n",
    "correct = 0\n",
    "total = 0\n",
    "with torch.no_grad():\n",
    "    for images, labels in test_loader:\n",
    "        images = images.to(device)\n",
    "        labels = labels.to(device)\n",
    "\n",
    "        outputs = model(images)\n",
    "        _, predicted = torch.max(outputs, 1)\n",
    "        total += labels.size(0)\n",
    "        correct += (predicted == labels).sum().item()\n",
    "\n",
    "print(f\"Accuracy_test: {100 * correct / total:.2f}%\")"
   ]
  },
  {
   "cell_type": "markdown",
   "id": "7005f27b-dbe8-4c9b-838e-eb18dfae3ecf",
   "metadata": {},
   "source": [
    "<font size=\"3\">**Grayscale**</font>"
   ]
  },
  {
   "cell_type": "code",
   "execution_count": 12,
   "id": "d0c24371-ffa9-462c-80b8-93e938102a6f",
   "metadata": {},
   "outputs": [],
   "source": [
    "# 创建数据集\n",
    "mode = \"L\"  # 或 \"L\" 用于灰度图，或 \"single\" 用于单通道\n",
    "channel_index = None  # 用于 RGB 模式；0: R, 1: G, 2: B 用于 single 模式\n",
    "full_dataset = ParquetDatasetProcessed(df, mode=mode, channel_index=channel_index, transform=transform)\n",
    "\n",
    "# 分割数据集\n",
    "train_size = int(0.8 * len(full_dataset))\n",
    "test_size = len(full_dataset) - train_size\n",
    "train_dataset, test_dataset = torch.utils.data.random_split(full_dataset, [train_size, test_size])\n",
    "\n",
    "# 创建数据加载器\n",
    "train_loader = torch.utils.data.DataLoader(train_dataset, batch_size=32, shuffle=True)\n",
    "test_loader = torch.utils.data.DataLoader(test_dataset, batch_size=32, shuffle=False)"
   ]
  },
  {
   "cell_type": "code",
   "execution_count": 13,
   "id": "b9387591-d701-4510-a7c0-f352f4e96f02",
   "metadata": {},
   "outputs": [],
   "source": [
    "class SimpleCNN(nn.Module):\n",
    "    def __init__(self, num_classes=7, input_channels=1):\n",
    "        super().__init__()\n",
    "        self.features = nn.Sequential(\n",
    "            nn.Conv2d(input_channels, 16, 3, padding=1),\n",
    "            nn.ReLU(),\n",
    "            nn.MaxPool2d(2),\n",
    "            nn.Conv2d(16, 32, 3, padding=1),\n",
    "            nn.ReLU(),\n",
    "            nn.MaxPool2d(2)\n",
    "        )\n",
    "        self.classifier = nn.Sequential(\n",
    "            nn.Linear(32 * 16 * 16, 128),\n",
    "            nn.ReLU(),\n",
    "            nn.Dropout(0.5),\n",
    "            nn.Linear(128, num_classes)\n",
    "        )\n",
    "\n",
    "    def forward(self, x):\n",
    "        x = self.features(x)\n",
    "        x = torch.flatten(x, 1)\n",
    "        x = self.classifier(x)\n",
    "        return x"
   ]
  },
  {
   "cell_type": "code",
   "execution_count": 14,
   "id": "29aa4c62-df88-4213-ac8b-d64aab12916d",
   "metadata": {},
   "outputs": [],
   "source": [
    "# 训练配置\n",
    "device = torch.device(\"cuda\" if torch.cuda.is_available() else \"cpu\")\n",
    "input_channels = 1  # 如果是单通道\n",
    "# input_channels = 3  # 如果是三通道\n",
    "model = SimpleCNN(num_classes=len(full_dataset.label_mapping), input_channels=1).to(device)\n",
    "criterion = nn.CrossEntropyLoss()\n",
    "optimizer = Adam(model.parameters(), lr=0.001)"
   ]
  },
  {
   "cell_type": "code",
   "execution_count": 15,
   "id": "3c6b44f5-583d-404c-8c5e-a68e08903b0b",
   "metadata": {},
   "outputs": [
    {
     "name": "stdout",
     "output_type": "stream",
     "text": [
      "Epoch 1 | Loss: 1.0477 | Accuracy: 72.86%\n",
      "Epoch 2 | Loss: 0.9784 | Accuracy: 73.76%\n",
      "Epoch 3 | Loss: 0.9713 | Accuracy: 73.76%\n",
      "Epoch 4 | Loss: 0.9745 | Accuracy: 73.76%\n",
      "Epoch 5 | Loss: 0.9332 | Accuracy: 73.76%\n",
      "Epoch 6 | Loss: 0.9081 | Accuracy: 73.76%\n",
      "Epoch 7 | Loss: 0.8569 | Accuracy: 73.89%\n",
      "Epoch 8 | Loss: 0.8093 | Accuracy: 74.26%\n",
      "Epoch 9 | Loss: 0.7598 | Accuracy: 74.73%\n",
      "Epoch 10 | Loss: 0.7303 | Accuracy: 75.52%\n"
     ]
    }
   ],
   "source": [
    "# 训练循环\n",
    "for epoch in range(10):\n",
    "    model.train()\n",
    "    running_loss = 0.0\n",
    "    correct = 0\n",
    "    total = 0\n",
    "\n",
    "    for images, labels in train_loader:\n",
    "        images = images.to(device)\n",
    "        labels = labels.to(device)\n",
    "\n",
    "        optimizer.zero_grad()\n",
    "        outputs = model(images)\n",
    "        loss = criterion(outputs, labels)\n",
    "        loss.backward()\n",
    "        optimizer.step()\n",
    "\n",
    "        running_loss += loss.item()\n",
    "\n",
    "        # 计算准确率\n",
    "        _, predicted = torch.max(outputs, 1)\n",
    "        total += labels.size(0)\n",
    "        correct += (predicted == labels).sum().item()\n",
    "\n",
    "    # 计算平均损失和准确率\n",
    "    running_loss += loss.item()\n",
    "    running_acc = 100 * correct / total\n",
    "\n",
    "    print(f\"Epoch {epoch+1} | Loss: {running_loss/len(train_loader):.4f} | Accuracy: {running_acc:.2f}%\")"
   ]
  },
  {
   "cell_type": "code",
   "execution_count": 16,
   "id": "875db3a6-29b2-4f9c-afd4-f0000fead5e0",
   "metadata": {},
   "outputs": [
    {
     "name": "stdout",
     "output_type": "stream",
     "text": [
      "Accuracy_test: 69.59%\n"
     ]
    }
   ],
   "source": [
    "# 测试代码\n",
    "model.eval()\n",
    "correct = 0\n",
    "total = 0\n",
    "with torch.no_grad():\n",
    "    for images, labels in test_loader:\n",
    "        images = images.to(device)\n",
    "        labels = labels.to(device)\n",
    "\n",
    "        outputs = model(images)\n",
    "        _, predicted = torch.max(outputs, 1)\n",
    "        total += labels.size(0)\n",
    "        correct += (predicted == labels).sum().item()\n",
    "\n",
    "print(f\"Accuracy_test: {100 * correct / total:.2f}%\")"
   ]
  },
  {
   "cell_type": "markdown",
   "id": "19cf1c0f-db56-4fe6-acc0-94f13cbdb54d",
   "metadata": {},
   "source": [
    "<font size=\"3\">**R**</font>"
   ]
  },
  {
   "cell_type": "code",
   "execution_count": 17,
   "id": "f9282da0-5873-4726-8f4b-747b6533d6f9",
   "metadata": {},
   "outputs": [],
   "source": [
    "# 创建数据集\n",
    "mode = \"single\"  # 或 \"L\" 用于灰度图，或 \"single\" 用于单通道\n",
    "channel_index = 0  # 用于 RGB 模式；0: R, 1: G, 2: B 用于 single 模式\n",
    "full_dataset = ParquetDatasetProcessed(df, mode=mode, channel_index=channel_index, transform=transform)\n",
    "\n",
    "# 分割数据集\n",
    "train_size = int(0.8 * len(full_dataset))\n",
    "test_size = len(full_dataset) - train_size\n",
    "train_dataset, test_dataset = torch.utils.data.random_split(full_dataset, [train_size, test_size])\n",
    "\n",
    "# 创建数据加载器\n",
    "train_loader = torch.utils.data.DataLoader(train_dataset, batch_size=32, shuffle=True)\n",
    "test_loader = torch.utils.data.DataLoader(test_dataset, batch_size=32, shuffle=False)"
   ]
  },
  {
   "cell_type": "code",
   "execution_count": 18,
   "id": "d8e3a8ff-290b-4439-8666-fbeaeccf2762",
   "metadata": {},
   "outputs": [],
   "source": [
    "class SimpleCNN(nn.Module):\n",
    "    def __init__(self, num_classes=7, input_channels=1):\n",
    "        super().__init__()\n",
    "        self.features = nn.Sequential(\n",
    "            nn.Conv2d(input_channels, 16, 3, padding=1),\n",
    "            nn.ReLU(),\n",
    "            nn.MaxPool2d(2),\n",
    "            nn.Conv2d(16, 32, 3, padding=1),\n",
    "            nn.ReLU(),\n",
    "            nn.MaxPool2d(2)\n",
    "        )\n",
    "        self.classifier = nn.Sequential(\n",
    "            nn.Linear(32 * 16 * 16, 128),\n",
    "            nn.ReLU(),\n",
    "            nn.Dropout(0.5),\n",
    "            nn.Linear(128, num_classes)\n",
    "        )\n",
    "\n",
    "    def forward(self, x):\n",
    "        x = self.features(x)\n",
    "        x = torch.flatten(x, 1)\n",
    "        x = self.classifier(x)\n",
    "        return x"
   ]
  },
  {
   "cell_type": "code",
   "execution_count": 19,
   "id": "eb33d59c-48ca-4eda-8b9f-b5c29e2012a4",
   "metadata": {},
   "outputs": [],
   "source": [
    "# 训练配置\n",
    "device = torch.device(\"cuda\" if torch.cuda.is_available() else \"cpu\")\n",
    "input_channels = 1  # 如果是单通道\n",
    "# input_channels = 3  # 如果是三通道\n",
    "model = SimpleCNN(num_classes=len(full_dataset.label_mapping), input_channels=1).to(device)\n",
    "criterion = nn.CrossEntropyLoss()\n",
    "optimizer = Adam(model.parameters(), lr=0.001)"
   ]
  },
  {
   "cell_type": "code",
   "execution_count": 20,
   "id": "9f8bfb15-f343-4ee9-87c8-7440d2ca0d69",
   "metadata": {},
   "outputs": [
    {
     "name": "stdout",
     "output_type": "stream",
     "text": [
      "Epoch 1 | Loss: 1.0271 | Accuracy: 72.89%\n",
      "Epoch 2 | Loss: 0.9869 | Accuracy: 73.58%\n",
      "Epoch 3 | Loss: 0.9784 | Accuracy: 73.58%\n",
      "Epoch 4 | Loss: 0.9480 | Accuracy: 73.58%\n",
      "Epoch 5 | Loss: 0.9357 | Accuracy: 73.58%\n",
      "Epoch 6 | Loss: 0.8806 | Accuracy: 73.54%\n",
      "Epoch 7 | Loss: 0.8290 | Accuracy: 73.95%\n",
      "Epoch 8 | Loss: 0.7971 | Accuracy: 74.08%\n",
      "Epoch 9 | Loss: 0.7501 | Accuracy: 74.98%\n",
      "Epoch 10 | Loss: 0.7093 | Accuracy: 75.55%\n"
     ]
    }
   ],
   "source": [
    "# 训练循环\n",
    "for epoch in range(10):\n",
    "    model.train()\n",
    "    running_loss = 0.0\n",
    "    correct = 0\n",
    "    total = 0\n",
    "\n",
    "    for images, labels in train_loader:\n",
    "        images = images.to(device)\n",
    "        labels = labels.to(device)\n",
    "\n",
    "        optimizer.zero_grad()\n",
    "        outputs = model(images)\n",
    "        loss = criterion(outputs, labels)\n",
    "        loss.backward()\n",
    "        optimizer.step()\n",
    "\n",
    "        running_loss += loss.item()\n",
    "\n",
    "        # 计算准确率\n",
    "        _, predicted = torch.max(outputs, 1)\n",
    "        total += labels.size(0)\n",
    "        correct += (predicted == labels).sum().item()\n",
    "\n",
    "    # 计算平均损失和准确率\n",
    "    running_loss += loss.item()\n",
    "    running_acc = 100 * correct / total\n",
    "\n",
    "    print(f\"Epoch {epoch+1} | Loss: {running_loss/len(train_loader):.4f} | Accuracy: {running_acc:.2f}%\")"
   ]
  },
  {
   "cell_type": "code",
   "execution_count": 21,
   "id": "0511a5ad-f289-4d72-841f-8932697a25dc",
   "metadata": {},
   "outputs": [
    {
     "name": "stdout",
     "output_type": "stream",
     "text": [
      "Accuracy_test: 71.21%\n"
     ]
    }
   ],
   "source": [
    "# 测试代码\n",
    "model.eval()\n",
    "correct = 0\n",
    "total = 0\n",
    "with torch.no_grad():\n",
    "    for images, labels in test_loader:\n",
    "        images = images.to(device)\n",
    "        labels = labels.to(device)\n",
    "\n",
    "        outputs = model(images)\n",
    "        _, predicted = torch.max(outputs, 1)\n",
    "        total += labels.size(0)\n",
    "        correct += (predicted == labels).sum().item()\n",
    "\n",
    "print(f\"Accuracy_test: {100 * correct / total:.2f}%\")"
   ]
  },
  {
   "cell_type": "markdown",
   "id": "231720fd-4b4f-4f65-a778-18617135b5e2",
   "metadata": {},
   "source": [
    "<font size=\"3\">**G**</font>"
   ]
  },
  {
   "cell_type": "code",
   "execution_count": 22,
   "id": "cf67c3b0-35f4-4feb-80cc-53bfc1d6a618",
   "metadata": {},
   "outputs": [],
   "source": [
    "# 创建数据集\n",
    "mode = \"single\"  # 或 \"L\" 用于灰度图，或 \"single\" 用于单通道\n",
    "channel_index = 1  # 用于 RGB 模式；0: R, 1: G, 2: B 用于 single 模式\n",
    "full_dataset = ParquetDatasetProcessed(df, mode=mode, channel_index=channel_index, transform=transform)\n",
    "\n",
    "# 分割数据集\n",
    "train_size = int(0.8 * len(full_dataset))\n",
    "test_size = len(full_dataset) - train_size\n",
    "train_dataset, test_dataset = torch.utils.data.random_split(full_dataset, [train_size, test_size])\n",
    "\n",
    "# 创建数据加载器\n",
    "train_loader = torch.utils.data.DataLoader(train_dataset, batch_size=32, shuffle=True)\n",
    "test_loader = torch.utils.data.DataLoader(test_dataset, batch_size=32, shuffle=False)"
   ]
  },
  {
   "cell_type": "code",
   "execution_count": 23,
   "id": "522da69e-1b94-4e09-93a0-6edf2e4ad319",
   "metadata": {},
   "outputs": [],
   "source": [
    "class SimpleCNN(nn.Module):\n",
    "    def __init__(self, num_classes=7, input_channels=1):\n",
    "        super().__init__()\n",
    "        self.features = nn.Sequential(\n",
    "            nn.Conv2d(input_channels, 16, 3, padding=1),\n",
    "            nn.ReLU(),\n",
    "            nn.MaxPool2d(2),\n",
    "            nn.Conv2d(16, 32, 3, padding=1),\n",
    "            nn.ReLU(),\n",
    "            nn.MaxPool2d(2)\n",
    "        )\n",
    "        self.classifier = nn.Sequential(\n",
    "            nn.Linear(32 * 16 * 16, 128),\n",
    "            nn.ReLU(),\n",
    "            nn.Dropout(0.5),\n",
    "            nn.Linear(128, num_classes)\n",
    "        )\n",
    "\n",
    "    def forward(self, x):\n",
    "        x = self.features(x)\n",
    "        x = torch.flatten(x, 1)\n",
    "        x = self.classifier(x)\n",
    "        return x"
   ]
  },
  {
   "cell_type": "code",
   "execution_count": 24,
   "id": "198856b1-1d4c-4481-a8a7-f1b48721ce31",
   "metadata": {},
   "outputs": [],
   "source": [
    "# 训练配置\n",
    "device = torch.device(\"cuda\" if torch.cuda.is_available() else \"cpu\")\n",
    "input_channels = 1  # 如果是单通道\n",
    "# input_channels = 3  # 如果是三通道\n",
    "model = SimpleCNN(num_classes=len(full_dataset.label_mapping), input_channels=1).to(device)\n",
    "criterion = nn.CrossEntropyLoss()\n",
    "optimizer = Adam(model.parameters(), lr=0.001)"
   ]
  },
  {
   "cell_type": "code",
   "execution_count": 25,
   "id": "8f378e1e-4b5f-42cd-ba07-335b670e3492",
   "metadata": {},
   "outputs": [
    {
     "name": "stdout",
     "output_type": "stream",
     "text": [
      "Epoch 1 | Loss: 1.0594 | Accuracy: 72.67%\n",
      "Epoch 2 | Loss: 0.9964 | Accuracy: 73.45%\n",
      "Epoch 3 | Loss: 0.9909 | Accuracy: 73.45%\n",
      "Epoch 4 | Loss: 0.9645 | Accuracy: 73.45%\n",
      "Epoch 5 | Loss: 0.9656 | Accuracy: 73.45%\n",
      "Epoch 6 | Loss: 0.9379 | Accuracy: 73.45%\n",
      "Epoch 7 | Loss: 0.9263 | Accuracy: 73.45%\n",
      "Epoch 8 | Loss: 0.9011 | Accuracy: 73.51%\n",
      "Epoch 9 | Loss: 0.8652 | Accuracy: 73.54%\n",
      "Epoch 10 | Loss: 0.8326 | Accuracy: 73.58%\n"
     ]
    }
   ],
   "source": [
    "# 训练循环\n",
    "for epoch in range(10):\n",
    "    model.train()\n",
    "    running_loss = 0.0\n",
    "    correct = 0\n",
    "    total = 0\n",
    "\n",
    "    for images, labels in train_loader:\n",
    "        images = images.to(device)\n",
    "        labels = labels.to(device)\n",
    "\n",
    "        optimizer.zero_grad()\n",
    "        outputs = model(images)\n",
    "        loss = criterion(outputs, labels)\n",
    "        loss.backward()\n",
    "        optimizer.step()\n",
    "\n",
    "        running_loss += loss.item()\n",
    "\n",
    "        # 计算准确率\n",
    "        _, predicted = torch.max(outputs, 1)\n",
    "        total += labels.size(0)\n",
    "        correct += (predicted == labels).sum().item()\n",
    "\n",
    "    # 计算平均损失和准确率\n",
    "    running_loss += loss.item()\n",
    "    running_acc = 100 * correct / total\n",
    "\n",
    "    print(f\"Epoch {epoch+1} | Loss: {running_loss/len(train_loader):.4f} | Accuracy: {running_acc:.2f}%\")"
   ]
  },
  {
   "cell_type": "code",
   "execution_count": 26,
   "id": "84ae33a9-93d1-4a32-b3f6-53447139441d",
   "metadata": {},
   "outputs": [
    {
     "name": "stdout",
     "output_type": "stream",
     "text": [
      "Accuracy_test: 72.59%\n"
     ]
    }
   ],
   "source": [
    "# 测试代码\n",
    "model.eval()\n",
    "correct = 0\n",
    "total = 0\n",
    "with torch.no_grad():\n",
    "    for images, labels in test_loader:\n",
    "        images = images.to(device)\n",
    "        labels = labels.to(device)\n",
    "\n",
    "        outputs = model(images)\n",
    "        _, predicted = torch.max(outputs, 1)\n",
    "        total += labels.size(0)\n",
    "        correct += (predicted == labels).sum().item()\n",
    "\n",
    "print(f\"Accuracy_test: {100 * correct / total:.2f}%\")"
   ]
  },
  {
   "cell_type": "markdown",
   "id": "c4c5de0e-3c49-4acd-ac83-7394800d7db1",
   "metadata": {},
   "source": [
    "<font size=\"3\">**B**</font>"
   ]
  },
  {
   "cell_type": "code",
   "execution_count": 27,
   "id": "de0c4660-bfd7-4082-9cb8-7a192ad0608f",
   "metadata": {},
   "outputs": [],
   "source": [
    "# 创建数据集\n",
    "mode = \"single\"  # 或 \"L\" 用于灰度图，或 \"single\" 用于单通道\n",
    "channel_index = 2  # 用于 RGB 模式；0: R, 1: G, 2: B 用于 single 模式\n",
    "full_dataset = ParquetDatasetProcessed(df, mode=mode, channel_index=channel_index, transform=transform)\n",
    "\n",
    "# 分割数据集\n",
    "train_size = int(0.8 * len(full_dataset))\n",
    "test_size = len(full_dataset) - train_size\n",
    "train_dataset, test_dataset = torch.utils.data.random_split(full_dataset, [train_size, test_size])\n",
    "\n",
    "# 创建数据加载器\n",
    "train_loader = torch.utils.data.DataLoader(train_dataset, batch_size=32, shuffle=True)\n",
    "test_loader = torch.utils.data.DataLoader(test_dataset, batch_size=32, shuffle=False)"
   ]
  },
  {
   "cell_type": "code",
   "execution_count": 28,
   "id": "c26a6be3-3412-47e4-b8e1-e95c9bc8f19f",
   "metadata": {},
   "outputs": [],
   "source": [
    "class SimpleCNN(nn.Module):\n",
    "    def __init__(self, num_classes=7, input_channels=1):\n",
    "        super().__init__()\n",
    "        self.features = nn.Sequential(\n",
    "            nn.Conv2d(input_channels, 16, 3, padding=1),\n",
    "            nn.ReLU(),\n",
    "            nn.MaxPool2d(2),\n",
    "            nn.Conv2d(16, 32, 3, padding=1),\n",
    "            nn.ReLU(),\n",
    "            nn.MaxPool2d(2)\n",
    "        )\n",
    "        self.classifier = nn.Sequential(\n",
    "            nn.Linear(32 * 16 * 16, 128),\n",
    "            nn.ReLU(),\n",
    "            nn.Dropout(0.5),\n",
    "            nn.Linear(128, num_classes)\n",
    "        )\n",
    "\n",
    "    def forward(self, x):\n",
    "        x = self.features(x)\n",
    "        x = torch.flatten(x, 1)\n",
    "        x = self.classifier(x)\n",
    "        return x"
   ]
  },
  {
   "cell_type": "code",
   "execution_count": 29,
   "id": "bbe4f692-3dc4-4966-902c-716f6d9ab576",
   "metadata": {},
   "outputs": [],
   "source": [
    "# 训练配置\n",
    "device = torch.device(\"cuda\" if torch.cuda.is_available() else \"cpu\")\n",
    "input_channels = 1  # 如果是单通道\n",
    "# input_channels = 3  # 如果是三通道\n",
    "model = SimpleCNN(num_classes=len(full_dataset.label_mapping), input_channels=1).to(device)\n",
    "criterion = nn.CrossEntropyLoss()\n",
    "optimizer = Adam(model.parameters(), lr=0.001)"
   ]
  },
  {
   "cell_type": "code",
   "execution_count": 30,
   "id": "de4bff90-e315-4cb2-a297-dafa340cbf0c",
   "metadata": {},
   "outputs": [
    {
     "name": "stdout",
     "output_type": "stream",
     "text": [
      "Epoch 1 | Loss: 1.0556 | Accuracy: 72.14%\n",
      "Epoch 2 | Loss: 0.9992 | Accuracy: 72.95%\n",
      "Epoch 3 | Loss: 0.9692 | Accuracy: 72.95%\n",
      "Epoch 4 | Loss: 0.9497 | Accuracy: 72.95%\n",
      "Epoch 5 | Loss: 0.9225 | Accuracy: 72.95%\n",
      "Epoch 6 | Loss: 0.9002 | Accuracy: 72.92%\n",
      "Epoch 7 | Loss: 0.8754 | Accuracy: 73.01%\n",
      "Epoch 8 | Loss: 0.8348 | Accuracy: 73.26%\n",
      "Epoch 9 | Loss: 0.7817 | Accuracy: 73.76%\n",
      "Epoch 10 | Loss: 0.7529 | Accuracy: 74.08%\n"
     ]
    }
   ],
   "source": [
    "# 训练循环\n",
    "for epoch in range(10):\n",
    "    model.train()\n",
    "    running_loss = 0.0\n",
    "    correct = 0\n",
    "    total = 0\n",
    "\n",
    "    for images, labels in train_loader:\n",
    "        images = images.to(device)\n",
    "        labels = labels.to(device)\n",
    "\n",
    "        optimizer.zero_grad()\n",
    "        outputs = model(images)\n",
    "        loss = criterion(outputs, labels)\n",
    "        loss.backward()\n",
    "        optimizer.step()\n",
    "\n",
    "        running_loss += loss.item()\n",
    "\n",
    "        # 计算准确率\n",
    "        _, predicted = torch.max(outputs, 1)\n",
    "        total += labels.size(0)\n",
    "        correct += (predicted == labels).sum().item()\n",
    "\n",
    "    # 计算平均损失和准确率\n",
    "    running_loss += loss.item()\n",
    "    running_acc = 100 * correct / total\n",
    "\n",
    "    print(f\"Epoch {epoch+1} | Loss: {running_loss/len(train_loader):.4f} | Accuracy: {running_acc:.2f}%\")"
   ]
  },
  {
   "cell_type": "code",
   "execution_count": 31,
   "id": "dfb72f18-235d-49fc-9b95-5f90f278c9a0",
   "metadata": {},
   "outputs": [
    {
     "name": "stdout",
     "output_type": "stream",
     "text": [
      "Accuracy_test: 74.09%\n"
     ]
    }
   ],
   "source": [
    "# 测试代码\n",
    "model.eval()\n",
    "correct = 0\n",
    "total = 0\n",
    "with torch.no_grad():\n",
    "    for images, labels in test_loader:\n",
    "        images = images.to(device)\n",
    "        labels = labels.to(device)\n",
    "\n",
    "        outputs = model(images)\n",
    "        _, predicted = torch.max(outputs, 1)\n",
    "        total += labels.size(0)\n",
    "        correct += (predicted == labels).sum().item()\n",
    "\n",
    "print(f\"Accuracy_test: {100 * correct / total:.2f}%\")"
   ]
  }
 ],
 "metadata": {
  "kernelspec": {
   "display_name": "Python 3 (ipykernel)",
   "language": "python",
   "name": "python3"
  },
  "language_info": {
   "codemirror_mode": {
    "name": "ipython",
    "version": 3
   },
   "file_extension": ".py",
   "mimetype": "text/x-python",
   "name": "python",
   "nbconvert_exporter": "python",
   "pygments_lexer": "ipython3",
   "version": "3.11.11"
  }
 },
 "nbformat": 4,
 "nbformat_minor": 5
}
